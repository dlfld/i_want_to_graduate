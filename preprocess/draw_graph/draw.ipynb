{
 "cells": [
  {
   "cell_type": "code",
   "execution_count": 1,
   "metadata": {},
   "outputs": [
    {
     "ename": "SyntaxError",
     "evalue": "unexpected EOF while parsing (1979075540.py, line 21)",
     "output_type": "error",
     "traceback": [
      "\u001b[0;36m  Cell \u001b[0;32mIn[1], line 21\u001b[0;36m\u001b[0m\n\u001b[0;31m    \u001b[0m\n\u001b[0m    ^\u001b[0m\n\u001b[0;31mSyntaxError\u001b[0m\u001b[0;31m:\u001b[0m unexpected EOF while parsing\n"
     ]
    }
   ],
   "source": [
    "import astor\n",
    "from graphviz import Digraph\n",
    "\n",
    "\n",
    "\n",
    "def visit(node, nodes, pindex, g):\n",
    "    name = str(type(node).__name__)\n",
    "\n",
    "    index = len(nodes)\n",
    "    nodes.append(index)\n",
    "    g.node(str(index), name)\n",
    "    if index != pindex:\n",
    "        g.edge(str(index), str(pindex))\n",
    "    for n in ast.iter_child_nodes(node):\n",
    "        visit(n, nodes, index, g)\n",
    "\n",
    "\n",
    "def visit_java_ast(node, nodes, pindex, g):\n",
    "    pass\n",
    "\n",
    " "
   ]
  },
  {
   "cell_type": "code",
   "execution_count": null,
   "metadata": {},
   "outputs": [],
   "source": [
    "graph = Digraph(format=\"png\")\n",
    "\n",
    "visit(tree, [], 0, graph)\n",
    "graph.render(\"test\")"
   ]
  }
 ],
 "metadata": {
  "kernelspec": {
   "display_name": "gnn_ast_flow",
   "language": "python",
   "name": "python3"
  },
  "language_info": {
   "codemirror_mode": {
    "name": "ipython",
    "version": 3
   },
   "file_extension": ".py",
   "mimetype": "text/x-python",
   "name": "python",
   "nbconvert_exporter": "python",
   "pygments_lexer": "ipython3",
   "version": "3.8.16"
  },
  "orig_nbformat": 4
 },
 "nbformat": 4,
 "nbformat_minor": 2
}
