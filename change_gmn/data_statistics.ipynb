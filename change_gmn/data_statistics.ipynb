{
 "cells": [
  {
   "cell_type": "code",
   "execution_count": 1,
   "metadata": {},
   "outputs": [
    {
     "name": "stdout",
     "output_type": "stream",
     "text": [
      "2416586\n"
     ]
    }
   ],
   "source": [
    "t = 0\n",
    "f = 0\n",
    "with open(\"BCB/traindata.txt\",\"r\") as f:\n",
    "    lines0 = len(f.readlines())\n",
    "    for item in f.readlines():\n",
    "        str(item).split(\" \")\n",
    "\n",
    "# with open(\"BCB/testdata.txt\",\"r\") as f:\n",
    "#     lines1 = len(f.readlines())\n",
    "\n",
    "# with open(\"BCB/devdata.txt\",\"r\") as f:\n",
    "#     lines2 = len(f.readlines())\n",
    "\n",
    "# print(lines0+lines1+lines2)\n"
   ]
  },
  {
   "cell_type": "code",
   "execution_count": null,
   "metadata": {},
   "outputs": [],
   "source": [
    "t = 0\n",
    "f = 0\n",
    "with open(\"BCB/traindata.txt\",\"r\") as f:\n",
    "    lines0 = len(f.readlines())\n",
    "    for item in f.readlines():\n",
    "        str(item).split(\"\\t\")\n",
    "\n",
    "# with open(\"BCB/testdata.txt\",\"r\") as f:\n",
    "#     lines1 = len(f.readlines())\n",
    "\n",
    "# with open(\"BCB/devdata.txt\",\"r\") as f:\n",
    "#     lines2 = len(f.readlines())\n",
    "\n",
    "# print(lines0+lines1+lines2)\n"
   ]
  }
 ],
 "metadata": {
  "kernelspec": {
   "display_name": "gnn_ast_flow",
   "language": "python",
   "name": "python3"
  },
  "language_info": {
   "codemirror_mode": {
    "name": "ipython",
    "version": 3
   },
   "file_extension": ".py",
   "mimetype": "text/x-python",
   "name": "python",
   "nbconvert_exporter": "python",
   "pygments_lexer": "ipython3",
   "version": "3.8.16"
  },
  "orig_nbformat": 4
 },
 "nbformat": 4,
 "nbformat_minor": 2
}
