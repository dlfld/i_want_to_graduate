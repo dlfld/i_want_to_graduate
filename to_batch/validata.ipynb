{
 "cells": [
  {
   "cell_type": "code",
   "execution_count": 6,
   "metadata": {},
   "outputs": [
    {
     "name": "stdout",
     "output_type": "stream",
     "text": [
      "0\n"
     ]
    }
   ],
   "source": [
    "with open(\"BCB/devdata.txt\",\"r\") as f:\n",
    "    dev_data = set(f.readlines())\n",
    "\n",
    "with open(\"BCB/testdata.txt\",\"r\") as f:\n",
    "    test_data = set(f.readlines())\n",
    "\n",
    "with open(\"BCB/traindata11.txt\",\"r\") as f:\n",
    "    train_data = set(f.readlines())\n",
    "\n",
    "same = 0\n",
    "\n",
    "for item in train_data:\n",
    "    if item in dev_data or item in test_data:\n",
    "        same+=1\n",
    "        \n",
    "print(same)"
   ]
  },
  {
   "cell_type": "code",
   "execution_count": null,
   "metadata": {},
   "outputs": [],
   "source": []
  }
 ],
 "metadata": {
  "kernelspec": {
   "display_name": "gnn_ast_flow",
   "language": "python",
   "name": "python3"
  },
  "language_info": {
   "codemirror_mode": {
    "name": "ipython",
    "version": 3
   },
   "file_extension": ".py",
   "mimetype": "text/x-python",
   "name": "python",
   "nbconvert_exporter": "python",
   "pygments_lexer": "ipython3",
   "version": "3.8.16"
  },
  "orig_nbformat": 4
 },
 "nbformat": 4,
 "nbformat_minor": 2
}
